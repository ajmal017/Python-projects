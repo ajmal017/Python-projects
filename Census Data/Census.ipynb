{
 "cells": [
  {
   "cell_type": "code",
   "execution_count": 134,
   "metadata": {},
   "outputs": [],
   "source": [
    "import requests\n",
    "import re\n",
    "from bs4 import BeautifulSoup\n",
    "\n",
    "#Getting states name\n",
    "string = 'https://www.ssa.gov/international/coc-docs/states.html'\n",
    "result = requests.get(string)\n",
    "src = result.content\n",
    "soup = BeautifulSoup(src, 'html.parser')\n",
    "tr = soup.find_all('td',{'class':'grayruled-td'})\n",
    "reg = re.compile('\\w{2}')\n",
    "states = []\n",
    "urls = []\n",
    "for x in range(1, int(len(tr)/2+1)):\n",
    "    state = re.findall(reg,str(tr[2*x-1].string))[0].lower()\n",
    "    states.append(state)"
   ]
  },
  {
   "cell_type": "code",
   "execution_count": 135,
   "metadata": {},
   "outputs": [],
   "source": [
    "#Generate urls for all files\n",
    "for state in states:\n",
    "    for i in range(2,6):\n",
    "        url = 'https://www2.census.gov/programs-surveys/acs/data/covid_19/Data_Profiles_for_HHS/050-County_By_State/dp0'+str(i)+\"_\"+str(state)+\".csv\"\n",
    "        urls.append(url)"
   ]
  },
  {
   "cell_type": "code",
   "execution_count": 136,
   "metadata": {},
   "outputs": [],
   "source": [
    "#Download data with urls to local folder\n",
    "#Please change the directory \"C:/Users/tanyi/OneDrive/Desktop/Modeling\" to your local directory\n",
    "for i in range(0,len(urls)):\n",
    "    r = requests.get(urls[i])\n",
    "    with open('C:/Users/tanyi/OneDrive/Desktop/Modeling/dp0'+str(i%4+2)+str(states[int(i/4)-1])+'.csv', 'wb') as f:\n",
    "        f.write(r.content)"
   ]
  }
 ],
 "metadata": {
  "kernelspec": {
   "display_name": "Python 3",
   "language": "python",
   "name": "python3"
  },
  "language_info": {
   "codemirror_mode": {
    "name": "ipython",
    "version": 3
   },
   "file_extension": ".py",
   "mimetype": "text/x-python",
   "name": "python",
   "nbconvert_exporter": "python",
   "pygments_lexer": "ipython3",
   "version": "3.7.3"
  }
 },
 "nbformat": 4,
 "nbformat_minor": 4
}
